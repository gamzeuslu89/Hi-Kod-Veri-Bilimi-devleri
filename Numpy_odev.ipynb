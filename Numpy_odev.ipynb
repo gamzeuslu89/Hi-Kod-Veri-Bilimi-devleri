{
 "cells": [
  {
   "cell_type": "markdown",
   "id": "a0f6364d",
   "metadata": {},
   "source": [
    "##### 1.Sayılardan oluşan bir boyutlu array oluşturun. Arrayi oluştururken sayıların veri tipini integer olarak belirtelim.\n",
    "\n",
    "Oluşturulan arrayin boyut, eleman sayısı bilgilerine bakalım."
   ]
  },
  {
   "cell_type": "code",
   "execution_count": 3,
   "id": "c16c30a6",
   "metadata": {},
   "outputs": [
    {
     "name": "stdout",
     "output_type": "stream",
     "text": [
      "eleman sayısı: 4\n",
      "array boyutu: (4,)\n"
     ]
    }
   ],
   "source": [
    "import numpy as np\n",
    "a=np.array([3,78,3,96],dtype=int)\n",
    "print(\"eleman sayısı:\",a.size)\n",
    "print(\"array boyutu:\",a.shape)"
   ]
  },
  {
   "cell_type": "markdown",
   "id": "1681f851",
   "metadata": {},
   "source": [
    "##### 2. Aşağıda verilen iki boyutlu ve üç boyutlu arrayi oluşturalım. Bu arraylerin boyut, eleman sayısı, satır, sütun bilgilerine ulaşalım. \n",
    "\n",
    "İki boyutlu array:\n",
    "[[1,2,6,7],\n",
    " [4,3,9,5]]\n",
    "\n",
    "Üç boyutlu array:\n",
    "[[[7,5,14],[21,8,11]],\n",
    " [[8,6,20],[14,3,9]]]\n",
    "\n",
    " "
   ]
  },
  {
   "cell_type": "code",
   "execution_count": 6,
   "id": "e3a138ed",
   "metadata": {},
   "outputs": [
    {
     "name": "stdout",
     "output_type": "stream",
     "text": [
      "b array'inin boyut sayısı: (2, 4)\n",
      "b array'inin eleman sayısı: 8\n",
      "b array'inin satır ve sütun sayısı: (2, 4)\n",
      "c array'inin boyut sayısı: (2, 2, 3)\n",
      "c array'inin eleman sayısı: 12\n",
      "c array'inin satır ve sütun sayısı: (2, 2, 3)\n"
     ]
    }
   ],
   "source": [
    "import numpy as np\n",
    "b=np.array([[1,2,6,7], [4,3,9,5]])\n",
    "c=np.array([[[7,5,14],[21,8,11]], [[8,6,20],[14,3,9]]])\n",
    "\n",
    "print(\"b array'inin boyut sayısı:\",b.shape)\n",
    "print(\"b array'inin eleman sayısı:\",b.size)\n",
    "print(\"b array'inin satır ve sütun sayısı:\",np.shape(b))\n",
    "print(\"c array'inin boyut sayısı:\",c.shape)\n",
    "print(\"c array'inin eleman sayısı:\",c.size)\n",
    "print(\"c array'inin satır ve sütun sayısı:\",np.shape(c))"
   ]
  },
  {
   "cell_type": "markdown",
   "id": "b45192b0",
   "metadata": {},
   "source": [
    "##### 3. İstenilen elamanlara ulaşmak için arrayler üzerinde indexleme işlemi yapalım"
   ]
  },
  {
   "cell_type": "code",
   "execution_count": 9,
   "id": "563f9992",
   "metadata": {},
   "outputs": [
    {
     "data": {
      "text/plain": [
       "array([[1, 2, 6, 7],\n",
       "       [4, 3, 9, 5]])"
      ]
     },
     "execution_count": 9,
     "metadata": {},
     "output_type": "execute_result"
    }
   ],
   "source": [
    "#İki boyutlu arraydaki 2 elemanına ulaşalım\n",
    "b=np.array([[1,2,6,7], [4,3,9,5]])\n",
    "b[0,1]"
   ]
  },
  {
   "cell_type": "code",
   "execution_count": 10,
   "id": "fd0a0be4",
   "metadata": {},
   "outputs": [
    {
     "data": {
      "text/plain": [
       "7"
      ]
     },
     "execution_count": 10,
     "metadata": {},
     "output_type": "execute_result"
    }
   ],
   "source": [
    "#İki boyutlu arraydaki 7 elemanına ulaşalım\n",
    "b=np.array([[1,2,6,7], [4,3,9,5]])\n",
    "b[0,3]"
   ]
  },
  {
   "cell_type": "code",
   "execution_count": 17,
   "id": "0c2b1884",
   "metadata": {},
   "outputs": [
    {
     "data": {
      "text/plain": [
       "array([9])"
      ]
     },
     "execution_count": 17,
     "metadata": {},
     "output_type": "execute_result"
    }
   ],
   "source": [
    "#Üç boyutlu arraydaki 9 elemanına ulaşalım\n",
    "c=np.array([[[7,5,14],[21,8,11]], [[8,6,20],[14,3,9]]])\n",
    "c[1,1,[2]]"
   ]
  },
  {
   "cell_type": "code",
   "execution_count": 4,
   "id": "0dc07d00",
   "metadata": {},
   "outputs": [],
   "source": [
    "#Üç boyutlu arraydaki 5 elemanına ulaşalım"
   ]
  },
  {
   "cell_type": "markdown",
   "id": "12198bc9",
   "metadata": {},
   "source": [
    "##### 4. Arrayler üzerinde slicing işlemi uygulayalım."
   ]
  },
  {
   "cell_type": "code",
   "execution_count": 26,
   "id": "9d066ba1",
   "metadata": {},
   "outputs": [
    {
     "name": "stdout",
     "output_type": "stream",
     "text": [
      "[2 6]\n"
     ]
    }
   ],
   "source": [
    "#İki boyutlu arraydaki 2,6 elemanlarına ulaşalım\n",
    "b=np.array([[1,2,6,7], [4,3,9,5]])\n",
    "y=b[0,[1,2]]\n",
    "print(y)\n"
   ]
  },
  {
   "cell_type": "code",
   "execution_count": 25,
   "id": "e020f980",
   "metadata": {},
   "outputs": [
    {
     "name": "stdout",
     "output_type": "stream",
     "text": [
      "[3 9 5]\n"
     ]
    }
   ],
   "source": [
    "#İki boyutlu arraydaki 3,9,5 elemanlarına ulaşalım\n",
    "b=np.array([[1,2,6,7], [4,3,9,5]])\n",
    "x=b[1,1:]\n",
    "print(x)"
   ]
  },
  {
   "cell_type": "code",
   "execution_count": 30,
   "id": "891bed31",
   "metadata": {},
   "outputs": [
    {
     "data": {
      "text/plain": [
       "array([21,  8, 11])"
      ]
     },
     "execution_count": 30,
     "metadata": {},
     "output_type": "execute_result"
    }
   ],
   "source": [
    "#Üç boyutlu arraydaki 21,8,11 elemanlarına ulaşalım\n",
    "c=np.array([[[7,5,14],[21,8,11]], [[8,6,20],[14,3,9]]])\n",
    "c[0,1,0:]\n"
   ]
  },
  {
   "cell_type": "code",
   "execution_count": 31,
   "id": "bcbf5f17",
   "metadata": {},
   "outputs": [
    {
     "data": {
      "text/plain": [
       "array([ 6, 20])"
      ]
     },
     "execution_count": 31,
     "metadata": {},
     "output_type": "execute_result"
    }
   ],
   "source": [
    "#Üç boyutlu arraydaki 6,20 elemanlarına ulaşalım\n",
    "c=np.array([[[7,5,14],[21,8,11]], [[8,6,20],[14,3,9]]])\n",
    "c[1,0,1:]"
   ]
  },
  {
   "cell_type": "markdown",
   "id": "66d2aab8",
   "metadata": {},
   "source": [
    "##### 5. 5 satır 3 sütunluk sıfırlardan ve birlerden oluşan iki tane iki boyutlu array oluşturalım. Bu arrayleri satır ve sütun bazında birleştirelim."
   ]
  },
  {
   "cell_type": "code",
   "execution_count": 19,
   "id": "99a6ed29",
   "metadata": {},
   "outputs": [
    {
     "name": "stdout",
     "output_type": "stream",
     "text": [
      "[[0. 0. 0.]\n",
      " [0. 0. 0.]\n",
      " [0. 0. 0.]\n",
      " [0. 0. 0.]\n",
      " [0. 0. 0.]\n",
      " [1. 1. 1.]\n",
      " [1. 1. 1.]\n",
      " [1. 1. 1.]\n",
      " [1. 1. 1.]\n",
      " [1. 1. 1.]]\n"
     ]
    }
   ],
   "source": [
    "a=np.zeros((5,3))\n",
    "b=np.ones((5,3))\n",
    "birlesik_array=np.concatenate((a,b),axis=0)\n",
    "print(birlesik_array)"
   ]
  }
 ],
 "metadata": {
  "kernelspec": {
   "display_name": "Python 3 (ipykernel)",
   "language": "python",
   "name": "python3"
  },
  "language_info": {
   "codemirror_mode": {
    "name": "ipython",
    "version": 3
   },
   "file_extension": ".py",
   "mimetype": "text/x-python",
   "name": "python",
   "nbconvert_exporter": "python",
   "pygments_lexer": "ipython3",
   "version": "3.9.7"
  }
 },
 "nbformat": 4,
 "nbformat_minor": 5
}
