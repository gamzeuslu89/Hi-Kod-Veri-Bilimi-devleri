{
 "cells": [
  {
   "cell_type": "markdown",
   "metadata": {},
   "source": [
    "### Ödev 1\n",
    "\n",
    "Bir sözlük oluşturulur ve bu sözlükte öğrencilerin isimleri ve Matematik, Fizik, Kimya notları tutulur. Kullanıcıdan isim ve ders ismi(Matematik, Fizik, Kimya) istenir ve bu bilgilere göre çıktı verilir."
   ]
  },
  {
   "cell_type": "code",
   "execution_count": 13,
   "metadata": {},
   "outputs": [
    {
     "name": "stdout",
     "output_type": "stream",
     "text": [
      "gamze\n",
      "zeynep\n"
     ]
    }
   ],
   "source": [
    "sözlük={\"gamze\":{\"matematik\":60,\"fizik\":30,\"kimya\":80},\"zeynep\":{\"matematik\":80,\"fizik\":55,\"kimya\":44}}\n",
    "for i in sözlük :\n",
    "    print(i)"
   ]
  },
  {
   "cell_type": "markdown",
   "metadata": {},
   "source": [
    "### Ödev 2\n",
    "\n",
    "Sözlük üzerinde değerleri değiştirme, yeni değer ekleme, kullanıcıya ulaşmak istediği bilgileri sorma gibi uygulamalar yapın."
   ]
  },
  {
   "cell_type": "code",
   "execution_count": 8,
   "metadata": {},
   "outputs": [
    {
     "name": "stdout",
     "output_type": "stream",
     "text": [
      "yeni değer eklemek için=2/sözlük üzerinde değerler değiştirmek=1çıkış=3\n",
      "seçim yapınız:1\n",
      "yeni key değeri gir:müzik\n",
      "yeni value değeri gir:45\n",
      "değer güncellendi\n",
      "seçim yapınız:2\n",
      "anahtar değer gir:matematik\n",
      "değişmek istediğin value değeri:78\n",
      "seçim yapınız:3\n",
      "cikis yapiliyor\n",
      "{'matematik': '78', 'fizik': 50, 'kimya': 88, 'müzik': '45'}\n"
     ]
    }
   ],
   "source": [
    "dersler_notlar={\"matematik\":60,\"fizik\":50,\"kimya\":88}\n",
    "print(\"yeni değer eklemek için=2/sözlük üzerinde değerler değiştirmek=1çıkış=3\")\n",
    "\n",
    "while True:\n",
    "    secim=input(\"seçim yapınız:\")\n",
    "    if secim==\"1\":\n",
    "        yeni_key=input(\"yeni key değeri gir:\")\n",
    "        yeni_value=input(\"yeni value değeri gir:\")  \n",
    "        dersler_notlar[yeni_key]=yeni_value\n",
    "        print(\"değer güncellendi\")\n",
    "    elif secim==\"2\":\n",
    "        a=input(\"anahtar değer gir:\")\n",
    "       \n",
    "        b=input(\"değişmek istediğin value değeri:\")\n",
    "        dersler_notlar[a]=b\n",
    "    elif secim==\"3\":\n",
    "        print(\"cikis yapiliyor\")\n",
    "        break #kırmak      #pass:atlamak\n",
    "        \n",
    "    else:\n",
    "        print(\"seçim geçersiz\")\n",
    "    \n",
    "        \n",
    "print(dersler_notlar)"
   ]
  }
 ],
 "metadata": {
  "kernelspec": {
   "display_name": "Python 3 (ipykernel)",
   "language": "python",
   "name": "python3"
  },
  "language_info": {
   "codemirror_mode": {
    "name": "ipython",
    "version": 3
   },
   "file_extension": ".py",
   "mimetype": "text/x-python",
   "name": "python",
   "nbconvert_exporter": "python",
   "pygments_lexer": "ipython3",
   "version": "3.9.7"
  }
 },
 "nbformat": 4,
 "nbformat_minor": 2
}
