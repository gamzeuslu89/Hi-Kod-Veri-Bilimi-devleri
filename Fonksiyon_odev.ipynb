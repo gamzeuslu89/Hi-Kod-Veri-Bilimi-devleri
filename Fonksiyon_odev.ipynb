{
 "cells": [
  {
   "cell_type": "markdown",
   "metadata": {},
   "source": [
    "#### Ödev 1\n",
    "Kullanıcıdan pi değeri ve yarıçap bilgisi alarak dairenin alanını hesaplayan bir fonksiyon oluşturulur."
   ]
  },
  {
   "cell_type": "code",
   "execution_count": 1,
   "metadata": {
    "vscode": {
     "languageId": "plaintext"
    }
   },
   "outputs": [
    {
     "name": "stdout",
     "output_type": "stream",
     "text": [
      "dairenin alanı: 75\n"
     ]
    }
   ],
   "source": [
    "def alan(pi,r):\n",
    "    alan_hesapla=pi*(r**2)\n",
    "    print(\"dairenin alanı:\",alan_hesapla)\n",
    "alan(3,5)"
   ]
  },
  {
   "cell_type": "markdown",
   "metadata": {},
   "source": [
    "#### Ödev 2\n",
    "\n",
    "Faktöriyel adında fonksiyon oluşturulur. Döngü kullanarak parametre olarak girilen sayının faktöriyeli hesaplanır. Format metodunu kullanılarak ekrana yazdırılır."
   ]
  },
  {
   "cell_type": "code",
   "execution_count": 18,
   "metadata": {
    "vscode": {
     "languageId": "plaintext"
    }
   },
   "outputs": [
    {
     "name": "stdout",
     "output_type": "stream",
     "text": [
      "120\n"
     ]
    }
   ],
   "source": [
    "\n",
    "def faktoriyel(sayi):\n",
    "    a=1\n",
    "    sonuc=1\n",
    "    while a<=sayi:\n",
    "        sonuc*=a\n",
    "        a+=1\n",
    "    print(sonuc)\n",
    "        \n",
    " \n",
    "            \n",
    "faktoriyel(5)\n",
    "\n",
    "    "
   ]
  },
  {
   "cell_type": "markdown",
   "metadata": {},
   "source": [
    "#### Ödev 3\n",
    "Kişinin fonksiyona doğum yılını vererek kaç yaşında olduğunu hesaplayan bir fonksiyon oluşturun. "
   ]
  },
  {
   "cell_type": "code",
   "execution_count": 29,
   "metadata": {
    "vscode": {
     "languageId": "plaintext"
    }
   },
   "outputs": [
    {
     "data": {
      "text/plain": [
       "25"
      ]
     },
     "execution_count": 29,
     "metadata": {},
     "output_type": "execute_result"
    }
   ],
   "source": [
    "def dogum_yili(dogumyil):\n",
    "    yas=2024-dogumyil\n",
    "    \n",
    "    return yas\n",
    "    \n",
    "    \n",
    "    \n",
    "dogum_yili(1999)"
   ]
  },
  {
   "cell_type": "markdown",
   "metadata": {},
   "source": [
    "#### Ödev 4\n",
    "\n",
    "Doğum yılı ve isim bilgisi verilen fonksiyon kişinin emekli olup olmadığını söylesin.(Kişi 65 yaşında ise emekli olur.) Burada yaş hesabını yukarıdaki örnekteki fonksiyonu kullanarak yapsın.(Yani fonksiyon içinde fonksiyon kullanmanızı istiyorum :)) Kişi 65 yaşında ya da daha fazlaysa \"Emekli oldunuz\" yanıtını, 65 yaşından küçükse emekliliğine kaç yıl kaldığını da hesaplayarak \"(isim) emekliliğine (yıl) kaldı.\" yanıtını versin."
   ]
  },
  {
   "cell_type": "code",
   "execution_count": 37,
   "metadata": {
    "vscode": {
     "languageId": "plaintext"
    }
   },
   "outputs": [
    {
     "name": "stdout",
     "output_type": "stream",
     "text": [
      "40\n",
      "gamze,emekliliğinize 40 yıl kaldı\n"
     ]
    }
   ],
   "source": [
    "def kisi_dogum(isim,dogum_yili):\n",
    "    \n",
    "\n",
    "    def yas_hesapla():\n",
    "        yas=2024-dogum_yili\n",
    "        return yas\n",
    "    yas=yas_hesapla()\n",
    "    if yas>65:\n",
    "        print(f\"{isim} ,emekli oldunuz\")\n",
    "    else:\n",
    "        ne_kadar_kaldi=65-yas\n",
    "        print(ne_kadar_kaldi)\n",
    "        print(f\"{isim},emekliliğinize {ne_kadar_kaldi} yıl kaldı\")\n",
    "kisi_dogum(\"gamze\",1999)\n"
   ]
  }
 ],
 "metadata": {
  "kernelspec": {
   "display_name": "Python 3 (ipykernel)",
   "language": "python",
   "name": "python3"
  },
  "language_info": {
   "codemirror_mode": {
    "name": "ipython",
    "version": 3
   },
   "file_extension": ".py",
   "mimetype": "text/x-python",
   "name": "python",
   "nbconvert_exporter": "python",
   "pygments_lexer": "ipython3",
   "version": "3.9.7"
  }
 },
 "nbformat": 4,
 "nbformat_minor": 2
}
