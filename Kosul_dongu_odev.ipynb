{
 "cells": [
  {
   "cell_type": "markdown",
   "id": "409f0f4a",
   "metadata": {},
   "source": [
    "**Ödev-1:** Kullanıcıdan maaş bilgisini istenir ve bu bilgiye göre maaşından ne kadar vergi kesileceğini hesaplanır. Kullanıcının geliri;\n",
    "\n",
    "1. 10000 ve altındaysa maaşından %5 kesinti olur.\n",
    "2. 25000 ve altındaysa maaşından %10 kesinti olur.\n",
    "3. 45000 ve altındaysa maaşından %25 kesinti olur.\n",
    "4. Diğer koşullarda %30 kesinti olur.\n",
    "\n",
    "Bu durumlara göre kullanıcının yeni maaşı yazdırılır."
   ]
  },
  {
   "cell_type": "code",
   "execution_count": 1,
   "id": "5246e510",
   "metadata": {},
   "outputs": [
    {
     "name": "stdout",
     "output_type": "stream",
     "text": [
      "maaşınızı girin:9000\n",
      "8550.0\n"
     ]
    }
   ],
   "source": [
    "maas=int(input(\"maaşınızı girin:\"))\n",
    "if maas<10000:\n",
    "    yeni_maas=maas-(maas*5/100)\n",
    "    print(yeni_maas)\n",
    "elif maas<25000:\n",
    "    yeni_maas=maas-(maas*10/100)\n",
    "    print(yeni_maas)\n",
    "elif maas<45000:\n",
    "    yeni_maas=maas-(maas*25/100)\n",
    "    print(yeni_maas)\n",
    "else:\n",
    "    yeni_maas=maas-(maas*30/100)\n",
    "    print(yeni_maas)"
   ]
  },
  {
   "cell_type": "markdown",
   "id": "f5fe8798",
   "metadata": {},
   "source": [
    "**Ödev-2:** Kullanıcıdan kullanıcı adı ve şifre oluşturmasını istenir. Şifrenin uzunluğu altı haneye ulaşmışsa hesabınız oluşturuldu mesajı alınır, altı haneden azsa altı haneli şifre oluşturması gerektiğinin mesajı alınır. *(Sadece koşul kullanılması yeterli.)*"
   ]
  },
  {
   "cell_type": "code",
   "execution_count": 2,
   "id": "6acffe57",
   "metadata": {},
   "outputs": [
    {
     "name": "stdout",
     "output_type": "stream",
     "text": [
      "kullanıcı adını girin:Gamze\n",
      "kullanıcı şifresi girin:154\n",
      "yeni sifre oluşturun\n"
     ]
    }
   ],
   "source": [
    "\n",
    "isim=input(\"kullanıcı adını girin:\")\n",
    "sifre=input(\"kullanıcı şifresi girin:\")\n",
    "    \n",
    "if len(sifre)==6:\n",
    "    print(\"hesabınız oluşturuldu\")\n",
    "elif len(sifre)<6:\n",
    "    print(\"yeni sifre oluşturun\")"
   ]
  },
  {
   "cell_type": "markdown",
   "id": "aaccf11a",
   "metadata": {},
   "source": [
    "**Ödev-3:** Bir önceki örnek geliştirilir.\n",
    "\n",
    "1. Kullanıcı girdiği şifre 5 ve 10 hane arasında olmak zorunda.\n",
    "2. Eğer bu koşula uyuyorsa \"Hesabınız oluşturuldu.\" mesajı alır.\n",
    "3. Koşulu sağlamıyorsa \"Lütfen girdiniz şifre 5 haneden az 10 haneden fazla olmasın!\" uyarısı alır.\n",
    "4. Bunu oluştururken kullanıcı istediğimiz şartlarda şifre oluşturana kadar sormaya devam eder"
   ]
  },
  {
   "cell_type": "code",
   "execution_count": 4,
   "id": "039e50dc",
   "metadata": {},
   "outputs": [
    {
     "name": "stdout",
     "output_type": "stream",
     "text": [
      "şifre girin12\n",
      "Lütfen girdiniz şifre 5 haneden az 10 haneden fazla olmasın!\n",
      "şifre girin14789\n",
      "Lütfen girdiniz şifre 5 haneden az 10 haneden fazla olmasın!\n",
      "şifre girin12365478\n",
      "hesabınız oluşturuldu\n"
     ]
    }
   ],
   "source": [
    "while True:\n",
    "    sifre=input(\"şifre girin\")\n",
    "    if 5<len(sifre)<10:\n",
    "        print(\"hesabınız oluşturuldu\")\n",
    "        break\n",
    "    else:\n",
    "        print(\"Lütfen girdiniz şifre 5 haneden az 10 haneden fazla olmasın!\")\n",
    "        pass\n",
    "    "
   ]
  },
  {
   "cell_type": "markdown",
   "id": "8ba81863",
   "metadata": {},
   "source": [
    "**Ödev-4:** Kullanıcıdan isim ve şifre isteyeceğiz ve şifre girişi için üç hak verilir.\n",
    "\n",
    "1. Eğer önceden tanımlı şifre ile kullanıcıdan gelen şifre aynıysa \"Giriş yapıldı.\" yazar.\n",
    "2. Şifre girişi yanlışsa \"Yanlış şifre girildi!\" uyarısı verilsin ve üç yanlış denemede program biter.\n",
    "3. Tercihe göre kalan hak bilgisi verilir."
   ]
  },
  {
   "cell_type": "code",
   "execution_count": 6,
   "id": "8f45ea0c",
   "metadata": {},
   "outputs": [
    {
     "name": "stdout",
     "output_type": "stream",
     "text": [
      "mevcut sifrenizi girin:123\n",
      "Yanlış şifre girildi!\n",
      "mevcut sifrenizi girin:14\n",
      "Yanlış şifre girildi!\n",
      "mevcut sifrenizi girin:45\n",
      "Yanlış şifre girildi!\n",
      "mevcut sifrenizi girin:52\n",
      "Yanlış şifre girildi!\n"
     ]
    }
   ],
   "source": [
    "a=0\n",
    "sifre1=12548\n",
    "while a<4:\n",
    " \n",
    "    sifre2=int(input(\"mevcut sifrenizi girin:\"))\n",
    "    if sifre1==sifre2:\n",
    "        print(\"giriş yapıldı\")\n",
    "        break\n",
    "    elif sifre1!=sifre2:\n",
    "        print(\"Yanlış şifre girildi!\")\n",
    "    a+=1"
   ]
  }
 ],
 "metadata": {
  "kernelspec": {
   "display_name": "Python 3 (ipykernel)",
   "language": "python",
   "name": "python3"
  },
  "language_info": {
   "codemirror_mode": {
    "name": "ipython",
    "version": 3
   },
   "file_extension": ".py",
   "mimetype": "text/x-python",
   "name": "python",
   "nbconvert_exporter": "python",
   "pygments_lexer": "ipython3",
   "version": "3.9.7"
  }
 },
 "nbformat": 4,
 "nbformat_minor": 5
}
